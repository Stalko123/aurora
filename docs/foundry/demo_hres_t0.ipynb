{
 "cells": [
  {
   "cell_type": "markdown",
   "id": "2d2d6659-d16f-4736-91b0-16efdfa58147",
   "metadata": {},
   "source": [
    "# Demo: HRES T0"
   ]
  },
  {
   "cell_type": "code",
   "execution_count": 2,
   "id": "bba46076-2b4f-452f-b694-ee108eae839d",
   "metadata": {},
   "outputs": [
    {
     "name": "stderr",
     "output_type": "stream",
     "text": [
      "/home/wessel/miniconda3/envs/climai_global/lib/python3.10/site-packages/tqdm/auto.py:21: TqdmWarning: IProgress not found. Please update jupyter and ipywidgets. See https://ipywidgets.readthedocs.io/en/stable/user_install.html\n",
      "  from .autonotebook import tqdm as notebook_tqdm\n",
      "/home/wessel/miniconda3/envs/climai_global/lib/python3.10/site-packages/torchvision/io/image.py:13: UserWarning: Failed to load image Python extension: '/home/wessel/miniconda3/envs/climai_global/lib/python3.10/site-packages/torchvision/image.so: undefined symbol: _ZN3c1017RegisterOperatorsD1Ev'If you don't plan on using image functionality from `torchvision.io`, you can ignore this warning. Otherwise, there might be something wrong with your environment. Did you have `libjpeg` or `libpng` installed before building `torchvision` from source?\n",
      "  warn(\n",
      "\u001b[31mERROR: pip's dependency resolver does not currently take into account all the packages that are installed. This behaviour is the source of the following dependency conflicts.\n",
      "torchdata 0.6.1 requires torch==2.0.1, but you have torch 2.2.0 which is incompatible.\u001b[0m\u001b[31m\n",
      "\u001b[0m"
     ]
    }
   ],
   "source": [
    "from aurora.foundry.demo.hres_t0_data import load_batch\n",
    "\n",
    "initial_condition = load_batch()"
   ]
  },
  {
   "cell_type": "code",
   "execution_count": null,
   "id": "07fd311b-54c0-4144-beb6-4a81d2056507",
   "metadata": {},
   "outputs": [],
   "source": [
    "import os\n",
    "\n",
    "from aurora.foundry import BlobStorageChannel, FoundryClient, submit\n",
    "\n",
    "foundry_client = FoundryClient(\n",
    "    endpoint=os.environ[\"FOUNDRY_ENDPOINT\"],\n",
    "    token=os.environ[\"FOUNDRY_TOKEN\"],\n",
    ")\n",
    "channel = BlobStorageChannel(os.environ[\"BLOB_URL_WITH_SAS\"])\n",
    "\n",
    "predictions = list(\n",
    "    submit(\n",
    "        initial_condition,\n",
    "        model_name=\"aurora-0.25-finetuned\",\n",
    "        num_steps=4,\n",
    "        foundry_client=foundry_client,\n",
    "        channel=channel,\n",
    "    )\n",
    ")"
   ]
  },
  {
   "cell_type": "code",
   "execution_count": null,
   "id": "5ea3d81c-6932-46f6-a91b-6fc79d549b29",
   "metadata": {},
   "outputs": [],
   "source": [
    "import matplotlib.pyplot as plt\n",
    "\n",
    "fig, axs = plt.subplots(2, 2, figsize=(12, 6.5))\n",
    "\n",
    "for i in range(4):\n",
    "    pred = predictions[i]\n",
    "\n",
    "    ax = axs[i // 2, i % 2]\n",
    "    ax.imshow(pred.surf_vars[\"2t\"][0, 0].numpy() - 273.15, vmin=-50, vmax=50)\n",
    "    ax.set_title(str(pred.metadata.time[0]))\n",
    "    ax.set_xticks([])\n",
    "    ax.set_yticks([])\n",
    "\n",
    "plt.tight_layout()"
   ]
  }
 ],
 "metadata": {
  "kernelspec": {
   "display_name": "Python 3 (ipykernel)",
   "language": "python",
   "name": "python3"
  },
  "language_info": {
   "codemirror_mode": {
    "name": "ipython",
    "version": 3
   },
   "file_extension": ".py",
   "mimetype": "text/x-python",
   "name": "python",
   "nbconvert_exporter": "python",
   "pygments_lexer": "ipython3",
   "version": "3.10.10"
  }
 },
 "nbformat": 4,
 "nbformat_minor": 5
}
