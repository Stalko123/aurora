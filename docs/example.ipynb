{
 "cells": [
  {
   "cell_type": "markdown",
   "id": "b2f57a10-13a1-4f66-a734-065fc16b17b2",
   "metadata": {},
   "source": [
    "# Example\n",
    "\n",
    "In this example, we will download ERA5 data for 1 Jan 2023 at $0.25\\degree$ resolution and produce predictions for it using the non-fine-tuned version of Aurora $0.25\\degree$.\n",
    "\n",
    "To begin with, register an account with the [CDS](https://cds.climate.copernicus.eu/) and create `$HOME/.cdsapirc` with the following content:"
   ]
  },
  {
   "cell_type": "raw",
   "id": "90c1c149-f332-4a6a-8f30-71dc165d5bd9",
   "metadata": {},
   "source": [
    "url: https://cds.climate.copernicus.eu/api/v2\n",
    "key: <UID>:<API key>"
   ]
  },
  {
   "cell_type": "markdown",
   "id": "b78325dd-6ce5-4698-8291-323702db9f7b",
   "metadata": {},
   "source": [
    "You can find your UID and API key on your account page.\n",
    "\n",
    "We now download the ERA5 data."
   ]
  },
  {
   "cell_type": "code",
   "execution_count": null,
   "id": "0541bf19-024f-4c76-8666-9d559640156e",
   "metadata": {},
   "outputs": [],
   "source": [
    "from pathlib import Path\n",
    "\n",
    "import cdsapi\n",
    "\n",
    "# Data will be downloaded here.\n",
    "download_path = Path(\"~/downloads\")\n",
    "\n",
    "c = cdsapi.Client()\n",
    "\n",
    "download_path = download_path.expanduser()\n",
    "download_path.mkdir(parents=True, exist_ok=True)\n",
    "\n",
    "if not (download_path / \"2023-01-01-surface-level.nc\").exists():\n",
    "    c.retrieve(\n",
    "        \"reanalysis-era5-single-levels\",\n",
    "        {\n",
    "            \"product_type\": \"reanalysis\",\n",
    "            \"variable\": [\n",
    "                \"2m_temperature\",\n",
    "                \"10m_u_component_of_wind\",\n",
    "                \"10m_v_component_of_wind\",\n",
    "                \"mean_sea_level_pressure\",\n",
    "            ],\n",
    "            \"year\": \"2023\",\n",
    "            \"month\": \"01\",\n",
    "            \"day\": \"01\",\n",
    "            \"time\": [\"00:00\", \"06:00\", \"12:00\", \"18:00\"],\n",
    "            \"format\": \"netcdf\",\n",
    "        },\n",
    "        \"2023-01-01-surface-level.nc\",\n",
    "    )\n",
    "if not (download_path / \"2023-01-01-atmospheric.nc\").exists():\n",
    "    c.retrieve(\n",
    "        \"reanalysis-era5-pressure-levels\",\n",
    "        {\n",
    "            \"product_type\": \"reanalysis\",\n",
    "            \"variable\": [\n",
    "                \"temperature\",\n",
    "                \"u_component_of_wind\",\n",
    "                \"v_component_of_wind\",\n",
    "                \"specific_humidity\",\n",
    "                \"geopotential\",\n",
    "            ],\n",
    "            \"pressure_level\": [\n",
    "                \"50\",\n",
    "                \"100\",\n",
    "                \"150\",\n",
    "                \"200\",\n",
    "                \"250\",\n",
    "                \"300\",\n",
    "                \"400\",\n",
    "                \"500\",\n",
    "                \"600\",\n",
    "                \"700\",\n",
    "                \"850\",\n",
    "                \"925\",\n",
    "                \"1000\",\n",
    "            ],\n",
    "            \"year\": \"2023\",\n",
    "            \"month\": \"01\",\n",
    "            \"day\": \"01\",\n",
    "            \"time\": [\"00:00\", \"06:00\", \"12:00\", \"18:00\"],\n",
    "            \"format\": \"netcdf\",\n",
    "        },\n",
    "        \"2023-01-01-atmospheric.nc\",\n",
    "    )"
   ]
  }
 ],
 "metadata": {
  "kernelspec": {
   "display_name": "Python 3 (ipykernel)",
   "language": "python",
   "name": "python3"
  },
  "language_info": {
   "codemirror_mode": {
    "name": "ipython",
    "version": 3
   },
   "file_extension": ".py",
   "mimetype": "text/x-python",
   "name": "python",
   "nbconvert_exporter": "python",
   "pygments_lexer": "ipython3",
   "version": "3.10.10"
  }
 },
 "nbformat": 4,
 "nbformat_minor": 5
}
